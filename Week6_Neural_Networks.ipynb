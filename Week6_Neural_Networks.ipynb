{
  "nbformat": 4,
  "nbformat_minor": 0,
  "metadata": {
    "colab": {
      "provenance": [],
      "toc_visible": true,
      "authorship_tag": "ABX9TyPNN1pakqrXOgjJguAem9l4",
      "include_colab_link": true
    },
    "kernelspec": {
      "name": "python3",
      "display_name": "Python 3"
    },
    "language_info": {
      "name": "python"
    },
    "accelerator": "GPU"
  },
  "cells": [
    {
      "cell_type": "markdown",
      "metadata": {
        "id": "view-in-github",
        "colab_type": "text"
      },
      "source": [
        "<a href=\"https://colab.research.google.com/github/Theosagie/Projects.github.io/blob/main/Week6_Neural_Networks.ipynb\" target=\"_parent\"><img src=\"https://colab.research.google.com/assets/colab-badge.svg\" alt=\"Open In Colab\"/></a>"
      ]
    },
    {
      "cell_type": "code",
      "execution_count": null,
      "metadata": {
        "id": "GOO4-gLH8PWD"
      },
      "outputs": [],
      "source": [
        "import numpy as np \n",
        "import pandas as pd\n",
        "import matplotlib.pyplot as plt\n",
        "import tensorflow as tf\n",
        "import seaborn as sns\n",
        "from sklearn.preprocessing import StandardScaler\n",
        "from sklearn.model_selection import train_test_split"
      ]
    },
    {
      "cell_type": "code",
      "source": [
        "from google.colab import files\n",
        "uploaded = files.upload()"
      ],
      "metadata": {
        "colab": {
          "base_uri": "https://localhost:8080/",
          "height": 70
        },
        "id": "9acReB_78yd2",
        "outputId": "01a52e4c-cb8b-402c-ce4d-5e2b0f327761"
      },
      "execution_count": null,
      "outputs": [
        {
          "output_type": "display_data",
          "data": {
            "text/plain": [
              "<IPython.core.display.HTML object>"
            ],
            "text/html": [
              "\n",
              "     <input type=\"file\" id=\"files-f4f455a4-dcda-4893-aeb0-ac6132b5d938\" name=\"files[]\" multiple disabled\n",
              "        style=\"border:none\" />\n",
              "     <output id=\"result-f4f455a4-dcda-4893-aeb0-ac6132b5d938\">\n",
              "      Upload widget is only available when the cell has been executed in the\n",
              "      current browser session. Please rerun this cell to enable.\n",
              "      </output>\n",
              "      <script>// Copyright 2017 Google LLC\n",
              "//\n",
              "// Licensed under the Apache License, Version 2.0 (the \"License\");\n",
              "// you may not use this file except in compliance with the License.\n",
              "// You may obtain a copy of the License at\n",
              "//\n",
              "//      http://www.apache.org/licenses/LICENSE-2.0\n",
              "//\n",
              "// Unless required by applicable law or agreed to in writing, software\n",
              "// distributed under the License is distributed on an \"AS IS\" BASIS,\n",
              "// WITHOUT WARRANTIES OR CONDITIONS OF ANY KIND, either express or implied.\n",
              "// See the License for the specific language governing permissions and\n",
              "// limitations under the License.\n",
              "\n",
              "/**\n",
              " * @fileoverview Helpers for google.colab Python module.\n",
              " */\n",
              "(function(scope) {\n",
              "function span(text, styleAttributes = {}) {\n",
              "  const element = document.createElement('span');\n",
              "  element.textContent = text;\n",
              "  for (const key of Object.keys(styleAttributes)) {\n",
              "    element.style[key] = styleAttributes[key];\n",
              "  }\n",
              "  return element;\n",
              "}\n",
              "\n",
              "// Max number of bytes which will be uploaded at a time.\n",
              "const MAX_PAYLOAD_SIZE = 100 * 1024;\n",
              "\n",
              "function _uploadFiles(inputId, outputId) {\n",
              "  const steps = uploadFilesStep(inputId, outputId);\n",
              "  const outputElement = document.getElementById(outputId);\n",
              "  // Cache steps on the outputElement to make it available for the next call\n",
              "  // to uploadFilesContinue from Python.\n",
              "  outputElement.steps = steps;\n",
              "\n",
              "  return _uploadFilesContinue(outputId);\n",
              "}\n",
              "\n",
              "// This is roughly an async generator (not supported in the browser yet),\n",
              "// where there are multiple asynchronous steps and the Python side is going\n",
              "// to poll for completion of each step.\n",
              "// This uses a Promise to block the python side on completion of each step,\n",
              "// then passes the result of the previous step as the input to the next step.\n",
              "function _uploadFilesContinue(outputId) {\n",
              "  const outputElement = document.getElementById(outputId);\n",
              "  const steps = outputElement.steps;\n",
              "\n",
              "  const next = steps.next(outputElement.lastPromiseValue);\n",
              "  return Promise.resolve(next.value.promise).then((value) => {\n",
              "    // Cache the last promise value to make it available to the next\n",
              "    // step of the generator.\n",
              "    outputElement.lastPromiseValue = value;\n",
              "    return next.value.response;\n",
              "  });\n",
              "}\n",
              "\n",
              "/**\n",
              " * Generator function which is called between each async step of the upload\n",
              " * process.\n",
              " * @param {string} inputId Element ID of the input file picker element.\n",
              " * @param {string} outputId Element ID of the output display.\n",
              " * @return {!Iterable<!Object>} Iterable of next steps.\n",
              " */\n",
              "function* uploadFilesStep(inputId, outputId) {\n",
              "  const inputElement = document.getElementById(inputId);\n",
              "  inputElement.disabled = false;\n",
              "\n",
              "  const outputElement = document.getElementById(outputId);\n",
              "  outputElement.innerHTML = '';\n",
              "\n",
              "  const pickedPromise = new Promise((resolve) => {\n",
              "    inputElement.addEventListener('change', (e) => {\n",
              "      resolve(e.target.files);\n",
              "    });\n",
              "  });\n",
              "\n",
              "  const cancel = document.createElement('button');\n",
              "  inputElement.parentElement.appendChild(cancel);\n",
              "  cancel.textContent = 'Cancel upload';\n",
              "  const cancelPromise = new Promise((resolve) => {\n",
              "    cancel.onclick = () => {\n",
              "      resolve(null);\n",
              "    };\n",
              "  });\n",
              "\n",
              "  // Wait for the user to pick the files.\n",
              "  const files = yield {\n",
              "    promise: Promise.race([pickedPromise, cancelPromise]),\n",
              "    response: {\n",
              "      action: 'starting',\n",
              "    }\n",
              "  };\n",
              "\n",
              "  cancel.remove();\n",
              "\n",
              "  // Disable the input element since further picks are not allowed.\n",
              "  inputElement.disabled = true;\n",
              "\n",
              "  if (!files) {\n",
              "    return {\n",
              "      response: {\n",
              "        action: 'complete',\n",
              "      }\n",
              "    };\n",
              "  }\n",
              "\n",
              "  for (const file of files) {\n",
              "    const li = document.createElement('li');\n",
              "    li.append(span(file.name, {fontWeight: 'bold'}));\n",
              "    li.append(span(\n",
              "        `(${file.type || 'n/a'}) - ${file.size} bytes, ` +\n",
              "        `last modified: ${\n",
              "            file.lastModifiedDate ? file.lastModifiedDate.toLocaleDateString() :\n",
              "                                    'n/a'} - `));\n",
              "    const percent = span('0% done');\n",
              "    li.appendChild(percent);\n",
              "\n",
              "    outputElement.appendChild(li);\n",
              "\n",
              "    const fileDataPromise = new Promise((resolve) => {\n",
              "      const reader = new FileReader();\n",
              "      reader.onload = (e) => {\n",
              "        resolve(e.target.result);\n",
              "      };\n",
              "      reader.readAsArrayBuffer(file);\n",
              "    });\n",
              "    // Wait for the data to be ready.\n",
              "    let fileData = yield {\n",
              "      promise: fileDataPromise,\n",
              "      response: {\n",
              "        action: 'continue',\n",
              "      }\n",
              "    };\n",
              "\n",
              "    // Use a chunked sending to avoid message size limits. See b/62115660.\n",
              "    let position = 0;\n",
              "    do {\n",
              "      const length = Math.min(fileData.byteLength - position, MAX_PAYLOAD_SIZE);\n",
              "      const chunk = new Uint8Array(fileData, position, length);\n",
              "      position += length;\n",
              "\n",
              "      const base64 = btoa(String.fromCharCode.apply(null, chunk));\n",
              "      yield {\n",
              "        response: {\n",
              "          action: 'append',\n",
              "          file: file.name,\n",
              "          data: base64,\n",
              "        },\n",
              "      };\n",
              "\n",
              "      let percentDone = fileData.byteLength === 0 ?\n",
              "          100 :\n",
              "          Math.round((position / fileData.byteLength) * 100);\n",
              "      percent.textContent = `${percentDone}% done`;\n",
              "\n",
              "    } while (position < fileData.byteLength);\n",
              "  }\n",
              "\n",
              "  // All done.\n",
              "  yield {\n",
              "    response: {\n",
              "      action: 'complete',\n",
              "    }\n",
              "  };\n",
              "}\n",
              "\n",
              "scope.google = scope.google || {};\n",
              "scope.google.colab = scope.google.colab || {};\n",
              "scope.google.colab._files = {\n",
              "  _uploadFiles,\n",
              "  _uploadFilesContinue,\n",
              "};\n",
              "})(self);\n",
              "</script> "
            ]
          },
          "metadata": {}
        },
        {
          "output_type": "stream",
          "name": "stdout",
          "text": [
            "Saving Cardiotocographic.csv to Cardiotocographic.csv\n"
          ]
        }
      ]
    },
    {
      "cell_type": "code",
      "source": [
        "cardio_data =  pd.read_csv('Cardiotocographic.csv')"
      ],
      "metadata": {
        "id": "I_mLUiLS8yft"
      },
      "execution_count": null,
      "outputs": []
    },
    {
      "cell_type": "code",
      "source": [
        "cardio_data.head()"
      ],
      "metadata": {
        "colab": {
          "base_uri": "https://localhost:8080/",
          "height": 206
        },
        "id": "C9AB8com-c6r",
        "outputId": "21fa863c-b91a-48e5-b6aa-93d42de89173"
      },
      "execution_count": null,
      "outputs": [
        {
          "output_type": "execute_result",
          "data": {
            "text/plain": [
              "   BPM       APC  FMPS      UCPS      DLPS  SDPS  PDPS  ASTV  MSTV  ALTV  \\\n",
              "0  120  0.000000   0.0  0.000000  0.000000   0.0   0.0    73   0.5    43   \n",
              "1  132  0.006380   0.0  0.006380  0.003190   0.0   0.0    17   2.1     0   \n",
              "2  133  0.003322   0.0  0.008306  0.003322   0.0   0.0    16   2.1     0   \n",
              "3  134  0.002561   0.0  0.007682  0.002561   0.0   0.0    16   2.4     0   \n",
              "4  132  0.006515   0.0  0.008143  0.000000   0.0   0.0    16   2.4     0   \n",
              "\n",
              "   MLTV  Width  Min  Max  NSP  \n",
              "0   2.4     64   62  126    2  \n",
              "1  10.4    130   68  198    1  \n",
              "2  13.4    130   68  198    1  \n",
              "3  23.0    117   53  170    1  \n",
              "4  19.9    117   53  170    1  "
            ],
            "text/html": [
              "\n",
              "  <div id=\"df-2a3ae0b5-75f1-4c24-b09f-bd289dea7e08\">\n",
              "    <div class=\"colab-df-container\">\n",
              "      <div>\n",
              "<style scoped>\n",
              "    .dataframe tbody tr th:only-of-type {\n",
              "        vertical-align: middle;\n",
              "    }\n",
              "\n",
              "    .dataframe tbody tr th {\n",
              "        vertical-align: top;\n",
              "    }\n",
              "\n",
              "    .dataframe thead th {\n",
              "        text-align: right;\n",
              "    }\n",
              "</style>\n",
              "<table border=\"1\" class=\"dataframe\">\n",
              "  <thead>\n",
              "    <tr style=\"text-align: right;\">\n",
              "      <th></th>\n",
              "      <th>BPM</th>\n",
              "      <th>APC</th>\n",
              "      <th>FMPS</th>\n",
              "      <th>UCPS</th>\n",
              "      <th>DLPS</th>\n",
              "      <th>SDPS</th>\n",
              "      <th>PDPS</th>\n",
              "      <th>ASTV</th>\n",
              "      <th>MSTV</th>\n",
              "      <th>ALTV</th>\n",
              "      <th>MLTV</th>\n",
              "      <th>Width</th>\n",
              "      <th>Min</th>\n",
              "      <th>Max</th>\n",
              "      <th>NSP</th>\n",
              "    </tr>\n",
              "  </thead>\n",
              "  <tbody>\n",
              "    <tr>\n",
              "      <th>0</th>\n",
              "      <td>120</td>\n",
              "      <td>0.000000</td>\n",
              "      <td>0.0</td>\n",
              "      <td>0.000000</td>\n",
              "      <td>0.000000</td>\n",
              "      <td>0.0</td>\n",
              "      <td>0.0</td>\n",
              "      <td>73</td>\n",
              "      <td>0.5</td>\n",
              "      <td>43</td>\n",
              "      <td>2.4</td>\n",
              "      <td>64</td>\n",
              "      <td>62</td>\n",
              "      <td>126</td>\n",
              "      <td>2</td>\n",
              "    </tr>\n",
              "    <tr>\n",
              "      <th>1</th>\n",
              "      <td>132</td>\n",
              "      <td>0.006380</td>\n",
              "      <td>0.0</td>\n",
              "      <td>0.006380</td>\n",
              "      <td>0.003190</td>\n",
              "      <td>0.0</td>\n",
              "      <td>0.0</td>\n",
              "      <td>17</td>\n",
              "      <td>2.1</td>\n",
              "      <td>0</td>\n",
              "      <td>10.4</td>\n",
              "      <td>130</td>\n",
              "      <td>68</td>\n",
              "      <td>198</td>\n",
              "      <td>1</td>\n",
              "    </tr>\n",
              "    <tr>\n",
              "      <th>2</th>\n",
              "      <td>133</td>\n",
              "      <td>0.003322</td>\n",
              "      <td>0.0</td>\n",
              "      <td>0.008306</td>\n",
              "      <td>0.003322</td>\n",
              "      <td>0.0</td>\n",
              "      <td>0.0</td>\n",
              "      <td>16</td>\n",
              "      <td>2.1</td>\n",
              "      <td>0</td>\n",
              "      <td>13.4</td>\n",
              "      <td>130</td>\n",
              "      <td>68</td>\n",
              "      <td>198</td>\n",
              "      <td>1</td>\n",
              "    </tr>\n",
              "    <tr>\n",
              "      <th>3</th>\n",
              "      <td>134</td>\n",
              "      <td>0.002561</td>\n",
              "      <td>0.0</td>\n",
              "      <td>0.007682</td>\n",
              "      <td>0.002561</td>\n",
              "      <td>0.0</td>\n",
              "      <td>0.0</td>\n",
              "      <td>16</td>\n",
              "      <td>2.4</td>\n",
              "      <td>0</td>\n",
              "      <td>23.0</td>\n",
              "      <td>117</td>\n",
              "      <td>53</td>\n",
              "      <td>170</td>\n",
              "      <td>1</td>\n",
              "    </tr>\n",
              "    <tr>\n",
              "      <th>4</th>\n",
              "      <td>132</td>\n",
              "      <td>0.006515</td>\n",
              "      <td>0.0</td>\n",
              "      <td>0.008143</td>\n",
              "      <td>0.000000</td>\n",
              "      <td>0.0</td>\n",
              "      <td>0.0</td>\n",
              "      <td>16</td>\n",
              "      <td>2.4</td>\n",
              "      <td>0</td>\n",
              "      <td>19.9</td>\n",
              "      <td>117</td>\n",
              "      <td>53</td>\n",
              "      <td>170</td>\n",
              "      <td>1</td>\n",
              "    </tr>\n",
              "  </tbody>\n",
              "</table>\n",
              "</div>\n",
              "      <button class=\"colab-df-convert\" onclick=\"convertToInteractive('df-2a3ae0b5-75f1-4c24-b09f-bd289dea7e08')\"\n",
              "              title=\"Convert this dataframe to an interactive table.\"\n",
              "              style=\"display:none;\">\n",
              "        \n",
              "  <svg xmlns=\"http://www.w3.org/2000/svg\" height=\"24px\"viewBox=\"0 0 24 24\"\n",
              "       width=\"24px\">\n",
              "    <path d=\"M0 0h24v24H0V0z\" fill=\"none\"/>\n",
              "    <path d=\"M18.56 5.44l.94 2.06.94-2.06 2.06-.94-2.06-.94-.94-2.06-.94 2.06-2.06.94zm-11 1L8.5 8.5l.94-2.06 2.06-.94-2.06-.94L8.5 2.5l-.94 2.06-2.06.94zm10 10l.94 2.06.94-2.06 2.06-.94-2.06-.94-.94-2.06-.94 2.06-2.06.94z\"/><path d=\"M17.41 7.96l-1.37-1.37c-.4-.4-.92-.59-1.43-.59-.52 0-1.04.2-1.43.59L10.3 9.45l-7.72 7.72c-.78.78-.78 2.05 0 2.83L4 21.41c.39.39.9.59 1.41.59.51 0 1.02-.2 1.41-.59l7.78-7.78 2.81-2.81c.8-.78.8-2.07 0-2.86zM5.41 20L4 18.59l7.72-7.72 1.47 1.35L5.41 20z\"/>\n",
              "  </svg>\n",
              "      </button>\n",
              "      \n",
              "  <style>\n",
              "    .colab-df-container {\n",
              "      display:flex;\n",
              "      flex-wrap:wrap;\n",
              "      gap: 12px;\n",
              "    }\n",
              "\n",
              "    .colab-df-convert {\n",
              "      background-color: #E8F0FE;\n",
              "      border: none;\n",
              "      border-radius: 50%;\n",
              "      cursor: pointer;\n",
              "      display: none;\n",
              "      fill: #1967D2;\n",
              "      height: 32px;\n",
              "      padding: 0 0 0 0;\n",
              "      width: 32px;\n",
              "    }\n",
              "\n",
              "    .colab-df-convert:hover {\n",
              "      background-color: #E2EBFA;\n",
              "      box-shadow: 0px 1px 2px rgba(60, 64, 67, 0.3), 0px 1px 3px 1px rgba(60, 64, 67, 0.15);\n",
              "      fill: #174EA6;\n",
              "    }\n",
              "\n",
              "    [theme=dark] .colab-df-convert {\n",
              "      background-color: #3B4455;\n",
              "      fill: #D2E3FC;\n",
              "    }\n",
              "\n",
              "    [theme=dark] .colab-df-convert:hover {\n",
              "      background-color: #434B5C;\n",
              "      box-shadow: 0px 1px 3px 1px rgba(0, 0, 0, 0.15);\n",
              "      filter: drop-shadow(0px 1px 2px rgba(0, 0, 0, 0.3));\n",
              "      fill: #FFFFFF;\n",
              "    }\n",
              "  </style>\n",
              "\n",
              "      <script>\n",
              "        const buttonEl =\n",
              "          document.querySelector('#df-2a3ae0b5-75f1-4c24-b09f-bd289dea7e08 button.colab-df-convert');\n",
              "        buttonEl.style.display =\n",
              "          google.colab.kernel.accessAllowed ? 'block' : 'none';\n",
              "\n",
              "        async function convertToInteractive(key) {\n",
              "          const element = document.querySelector('#df-2a3ae0b5-75f1-4c24-b09f-bd289dea7e08');\n",
              "          const dataTable =\n",
              "            await google.colab.kernel.invokeFunction('convertToInteractive',\n",
              "                                                     [key], {});\n",
              "          if (!dataTable) return;\n",
              "\n",
              "          const docLinkHtml = 'Like what you see? Visit the ' +\n",
              "            '<a target=\"_blank\" href=https://colab.research.google.com/notebooks/data_table.ipynb>data table notebook</a>'\n",
              "            + ' to learn more about interactive tables.';\n",
              "          element.innerHTML = '';\n",
              "          dataTable['output_type'] = 'display_data';\n",
              "          await google.colab.output.renderOutput(dataTable, element);\n",
              "          const docLink = document.createElement('div');\n",
              "          docLink.innerHTML = docLinkHtml;\n",
              "          element.appendChild(docLink);\n",
              "        }\n",
              "      </script>\n",
              "    </div>\n",
              "  </div>\n",
              "  "
            ]
          },
          "metadata": {},
          "execution_count": 4
        }
      ]
    },
    {
      "cell_type": "code",
      "source": [
        "cardio_data.tail()"
      ],
      "metadata": {
        "colab": {
          "base_uri": "https://localhost:8080/",
          "height": 206
        },
        "id": "XYbpB3hf-c8d",
        "outputId": "e9648e07-1c63-43ea-eda2-e0e6964a280e"
      },
      "execution_count": null,
      "outputs": [
        {
          "output_type": "execute_result",
          "data": {
            "text/plain": [
              "      BPM       APC      FMPS      UCPS  DLPS  SDPS  PDPS  ASTV  MSTV  ALTV  \\\n",
              "2121  140  0.000000  0.000000  0.007426   0.0   0.0   0.0    79   0.2    25   \n",
              "2122  140  0.000775  0.000000  0.006971   0.0   0.0   0.0    78   0.4    22   \n",
              "2123  140  0.000980  0.000000  0.006863   0.0   0.0   0.0    79   0.4    20   \n",
              "2124  140  0.000679  0.000000  0.006110   0.0   0.0   0.0    78   0.4    27   \n",
              "2125  142  0.001616  0.001616  0.008078   0.0   0.0   0.0    74   0.4    36   \n",
              "\n",
              "      MLTV  Width  Min  Max  NSP  \n",
              "2121   7.2     40  137  177    2  \n",
              "2122   7.1     66  103  169    2  \n",
              "2123   6.1     67  103  170    2  \n",
              "2124   7.0     66  103  169    2  \n",
              "2125   5.0     42  117  159    1  "
            ],
            "text/html": [
              "\n",
              "  <div id=\"df-aa9fdf61-0b90-4324-b324-d0c317a29500\">\n",
              "    <div class=\"colab-df-container\">\n",
              "      <div>\n",
              "<style scoped>\n",
              "    .dataframe tbody tr th:only-of-type {\n",
              "        vertical-align: middle;\n",
              "    }\n",
              "\n",
              "    .dataframe tbody tr th {\n",
              "        vertical-align: top;\n",
              "    }\n",
              "\n",
              "    .dataframe thead th {\n",
              "        text-align: right;\n",
              "    }\n",
              "</style>\n",
              "<table border=\"1\" class=\"dataframe\">\n",
              "  <thead>\n",
              "    <tr style=\"text-align: right;\">\n",
              "      <th></th>\n",
              "      <th>BPM</th>\n",
              "      <th>APC</th>\n",
              "      <th>FMPS</th>\n",
              "      <th>UCPS</th>\n",
              "      <th>DLPS</th>\n",
              "      <th>SDPS</th>\n",
              "      <th>PDPS</th>\n",
              "      <th>ASTV</th>\n",
              "      <th>MSTV</th>\n",
              "      <th>ALTV</th>\n",
              "      <th>MLTV</th>\n",
              "      <th>Width</th>\n",
              "      <th>Min</th>\n",
              "      <th>Max</th>\n",
              "      <th>NSP</th>\n",
              "    </tr>\n",
              "  </thead>\n",
              "  <tbody>\n",
              "    <tr>\n",
              "      <th>2121</th>\n",
              "      <td>140</td>\n",
              "      <td>0.000000</td>\n",
              "      <td>0.000000</td>\n",
              "      <td>0.007426</td>\n",
              "      <td>0.0</td>\n",
              "      <td>0.0</td>\n",
              "      <td>0.0</td>\n",
              "      <td>79</td>\n",
              "      <td>0.2</td>\n",
              "      <td>25</td>\n",
              "      <td>7.2</td>\n",
              "      <td>40</td>\n",
              "      <td>137</td>\n",
              "      <td>177</td>\n",
              "      <td>2</td>\n",
              "    </tr>\n",
              "    <tr>\n",
              "      <th>2122</th>\n",
              "      <td>140</td>\n",
              "      <td>0.000775</td>\n",
              "      <td>0.000000</td>\n",
              "      <td>0.006971</td>\n",
              "      <td>0.0</td>\n",
              "      <td>0.0</td>\n",
              "      <td>0.0</td>\n",
              "      <td>78</td>\n",
              "      <td>0.4</td>\n",
              "      <td>22</td>\n",
              "      <td>7.1</td>\n",
              "      <td>66</td>\n",
              "      <td>103</td>\n",
              "      <td>169</td>\n",
              "      <td>2</td>\n",
              "    </tr>\n",
              "    <tr>\n",
              "      <th>2123</th>\n",
              "      <td>140</td>\n",
              "      <td>0.000980</td>\n",
              "      <td>0.000000</td>\n",
              "      <td>0.006863</td>\n",
              "      <td>0.0</td>\n",
              "      <td>0.0</td>\n",
              "      <td>0.0</td>\n",
              "      <td>79</td>\n",
              "      <td>0.4</td>\n",
              "      <td>20</td>\n",
              "      <td>6.1</td>\n",
              "      <td>67</td>\n",
              "      <td>103</td>\n",
              "      <td>170</td>\n",
              "      <td>2</td>\n",
              "    </tr>\n",
              "    <tr>\n",
              "      <th>2124</th>\n",
              "      <td>140</td>\n",
              "      <td>0.000679</td>\n",
              "      <td>0.000000</td>\n",
              "      <td>0.006110</td>\n",
              "      <td>0.0</td>\n",
              "      <td>0.0</td>\n",
              "      <td>0.0</td>\n",
              "      <td>78</td>\n",
              "      <td>0.4</td>\n",
              "      <td>27</td>\n",
              "      <td>7.0</td>\n",
              "      <td>66</td>\n",
              "      <td>103</td>\n",
              "      <td>169</td>\n",
              "      <td>2</td>\n",
              "    </tr>\n",
              "    <tr>\n",
              "      <th>2125</th>\n",
              "      <td>142</td>\n",
              "      <td>0.001616</td>\n",
              "      <td>0.001616</td>\n",
              "      <td>0.008078</td>\n",
              "      <td>0.0</td>\n",
              "      <td>0.0</td>\n",
              "      <td>0.0</td>\n",
              "      <td>74</td>\n",
              "      <td>0.4</td>\n",
              "      <td>36</td>\n",
              "      <td>5.0</td>\n",
              "      <td>42</td>\n",
              "      <td>117</td>\n",
              "      <td>159</td>\n",
              "      <td>1</td>\n",
              "    </tr>\n",
              "  </tbody>\n",
              "</table>\n",
              "</div>\n",
              "      <button class=\"colab-df-convert\" onclick=\"convertToInteractive('df-aa9fdf61-0b90-4324-b324-d0c317a29500')\"\n",
              "              title=\"Convert this dataframe to an interactive table.\"\n",
              "              style=\"display:none;\">\n",
              "        \n",
              "  <svg xmlns=\"http://www.w3.org/2000/svg\" height=\"24px\"viewBox=\"0 0 24 24\"\n",
              "       width=\"24px\">\n",
              "    <path d=\"M0 0h24v24H0V0z\" fill=\"none\"/>\n",
              "    <path d=\"M18.56 5.44l.94 2.06.94-2.06 2.06-.94-2.06-.94-.94-2.06-.94 2.06-2.06.94zm-11 1L8.5 8.5l.94-2.06 2.06-.94-2.06-.94L8.5 2.5l-.94 2.06-2.06.94zm10 10l.94 2.06.94-2.06 2.06-.94-2.06-.94-.94-2.06-.94 2.06-2.06.94z\"/><path d=\"M17.41 7.96l-1.37-1.37c-.4-.4-.92-.59-1.43-.59-.52 0-1.04.2-1.43.59L10.3 9.45l-7.72 7.72c-.78.78-.78 2.05 0 2.83L4 21.41c.39.39.9.59 1.41.59.51 0 1.02-.2 1.41-.59l7.78-7.78 2.81-2.81c.8-.78.8-2.07 0-2.86zM5.41 20L4 18.59l7.72-7.72 1.47 1.35L5.41 20z\"/>\n",
              "  </svg>\n",
              "      </button>\n",
              "      \n",
              "  <style>\n",
              "    .colab-df-container {\n",
              "      display:flex;\n",
              "      flex-wrap:wrap;\n",
              "      gap: 12px;\n",
              "    }\n",
              "\n",
              "    .colab-df-convert {\n",
              "      background-color: #E8F0FE;\n",
              "      border: none;\n",
              "      border-radius: 50%;\n",
              "      cursor: pointer;\n",
              "      display: none;\n",
              "      fill: #1967D2;\n",
              "      height: 32px;\n",
              "      padding: 0 0 0 0;\n",
              "      width: 32px;\n",
              "    }\n",
              "\n",
              "    .colab-df-convert:hover {\n",
              "      background-color: #E2EBFA;\n",
              "      box-shadow: 0px 1px 2px rgba(60, 64, 67, 0.3), 0px 1px 3px 1px rgba(60, 64, 67, 0.15);\n",
              "      fill: #174EA6;\n",
              "    }\n",
              "\n",
              "    [theme=dark] .colab-df-convert {\n",
              "      background-color: #3B4455;\n",
              "      fill: #D2E3FC;\n",
              "    }\n",
              "\n",
              "    [theme=dark] .colab-df-convert:hover {\n",
              "      background-color: #434B5C;\n",
              "      box-shadow: 0px 1px 3px 1px rgba(0, 0, 0, 0.15);\n",
              "      filter: drop-shadow(0px 1px 2px rgba(0, 0, 0, 0.3));\n",
              "      fill: #FFFFFF;\n",
              "    }\n",
              "  </style>\n",
              "\n",
              "      <script>\n",
              "        const buttonEl =\n",
              "          document.querySelector('#df-aa9fdf61-0b90-4324-b324-d0c317a29500 button.colab-df-convert');\n",
              "        buttonEl.style.display =\n",
              "          google.colab.kernel.accessAllowed ? 'block' : 'none';\n",
              "\n",
              "        async function convertToInteractive(key) {\n",
              "          const element = document.querySelector('#df-aa9fdf61-0b90-4324-b324-d0c317a29500');\n",
              "          const dataTable =\n",
              "            await google.colab.kernel.invokeFunction('convertToInteractive',\n",
              "                                                     [key], {});\n",
              "          if (!dataTable) return;\n",
              "\n",
              "          const docLinkHtml = 'Like what you see? Visit the ' +\n",
              "            '<a target=\"_blank\" href=https://colab.research.google.com/notebooks/data_table.ipynb>data table notebook</a>'\n",
              "            + ' to learn more about interactive tables.';\n",
              "          element.innerHTML = '';\n",
              "          dataTable['output_type'] = 'display_data';\n",
              "          await google.colab.output.renderOutput(dataTable, element);\n",
              "          const docLink = document.createElement('div');\n",
              "          docLink.innerHTML = docLinkHtml;\n",
              "          element.appendChild(docLink);\n",
              "        }\n",
              "      </script>\n",
              "    </div>\n",
              "  </div>\n",
              "  "
            ]
          },
          "metadata": {},
          "execution_count": 5
        }
      ]
    },
    {
      "cell_type": "code",
      "source": [
        "cardio_data.describe()"
      ],
      "metadata": {
        "colab": {
          "base_uri": "https://localhost:8080/",
          "height": 364
        },
        "id": "QOOjuKL9BppT",
        "outputId": "559cd1b0-5590-4c4e-b94b-9b3d06cfe12f"
      },
      "execution_count": null,
      "outputs": [
        {
          "output_type": "execute_result",
          "data": {
            "text/plain": [
              "               BPM          APC         FMPS         UCPS         DLPS  \\\n",
              "count  2126.000000  2126.000000  2126.000000  2126.000000  2126.000000   \n",
              "mean    133.303857     0.003170     0.009474     0.004357     0.001885   \n",
              "std       9.840844     0.003860     0.046670     0.002940     0.002962   \n",
              "min     106.000000     0.000000     0.000000     0.000000     0.000000   \n",
              "25%     126.000000     0.000000     0.000000     0.001876     0.000000   \n",
              "50%     133.000000     0.001630     0.000000     0.004482     0.000000   \n",
              "75%     140.000000     0.005631     0.002512     0.006525     0.003264   \n",
              "max     160.000000     0.019284     0.480634     0.014925     0.015385   \n",
              "\n",
              "              SDPS         PDPS         ASTV         MSTV        ALTV  \\\n",
              "count  2126.000000  2126.000000  2126.000000  2126.000000  2126.00000   \n",
              "mean      0.000004     0.000157    46.990122     1.332785     9.84666   \n",
              "std       0.000063     0.000580    17.192814     0.883241    18.39688   \n",
              "min       0.000000     0.000000    12.000000     0.200000     0.00000   \n",
              "25%       0.000000     0.000000    32.000000     0.700000     0.00000   \n",
              "50%       0.000000     0.000000    49.000000     1.200000     0.00000   \n",
              "75%       0.000000     0.000000    61.000000     1.700000    11.00000   \n",
              "max       0.001353     0.005348    87.000000     7.000000    91.00000   \n",
              "\n",
              "              MLTV        Width          Min          Max          NSP  \n",
              "count  2126.000000  2126.000000  2126.000000  2126.000000  2126.000000  \n",
              "mean      8.187629    70.445908    93.579492   164.025400     1.304327  \n",
              "std       5.628247    38.955693    29.560212    17.944183     0.614377  \n",
              "min       0.000000     3.000000    50.000000   122.000000     1.000000  \n",
              "25%       4.600000    37.000000    67.000000   152.000000     1.000000  \n",
              "50%       7.400000    67.500000    93.000000   162.000000     1.000000  \n",
              "75%      10.800000   100.000000   120.000000   174.000000     1.000000  \n",
              "max      50.700000   180.000000   159.000000   238.000000     3.000000  "
            ],
            "text/html": [
              "\n",
              "  <div id=\"df-7d55da88-c4c5-46c7-bb6f-e4c6ff5570b3\">\n",
              "    <div class=\"colab-df-container\">\n",
              "      <div>\n",
              "<style scoped>\n",
              "    .dataframe tbody tr th:only-of-type {\n",
              "        vertical-align: middle;\n",
              "    }\n",
              "\n",
              "    .dataframe tbody tr th {\n",
              "        vertical-align: top;\n",
              "    }\n",
              "\n",
              "    .dataframe thead th {\n",
              "        text-align: right;\n",
              "    }\n",
              "</style>\n",
              "<table border=\"1\" class=\"dataframe\">\n",
              "  <thead>\n",
              "    <tr style=\"text-align: right;\">\n",
              "      <th></th>\n",
              "      <th>BPM</th>\n",
              "      <th>APC</th>\n",
              "      <th>FMPS</th>\n",
              "      <th>UCPS</th>\n",
              "      <th>DLPS</th>\n",
              "      <th>SDPS</th>\n",
              "      <th>PDPS</th>\n",
              "      <th>ASTV</th>\n",
              "      <th>MSTV</th>\n",
              "      <th>ALTV</th>\n",
              "      <th>MLTV</th>\n",
              "      <th>Width</th>\n",
              "      <th>Min</th>\n",
              "      <th>Max</th>\n",
              "      <th>NSP</th>\n",
              "    </tr>\n",
              "  </thead>\n",
              "  <tbody>\n",
              "    <tr>\n",
              "      <th>count</th>\n",
              "      <td>2126.000000</td>\n",
              "      <td>2126.000000</td>\n",
              "      <td>2126.000000</td>\n",
              "      <td>2126.000000</td>\n",
              "      <td>2126.000000</td>\n",
              "      <td>2126.000000</td>\n",
              "      <td>2126.000000</td>\n",
              "      <td>2126.000000</td>\n",
              "      <td>2126.000000</td>\n",
              "      <td>2126.00000</td>\n",
              "      <td>2126.000000</td>\n",
              "      <td>2126.000000</td>\n",
              "      <td>2126.000000</td>\n",
              "      <td>2126.000000</td>\n",
              "      <td>2126.000000</td>\n",
              "    </tr>\n",
              "    <tr>\n",
              "      <th>mean</th>\n",
              "      <td>133.303857</td>\n",
              "      <td>0.003170</td>\n",
              "      <td>0.009474</td>\n",
              "      <td>0.004357</td>\n",
              "      <td>0.001885</td>\n",
              "      <td>0.000004</td>\n",
              "      <td>0.000157</td>\n",
              "      <td>46.990122</td>\n",
              "      <td>1.332785</td>\n",
              "      <td>9.84666</td>\n",
              "      <td>8.187629</td>\n",
              "      <td>70.445908</td>\n",
              "      <td>93.579492</td>\n",
              "      <td>164.025400</td>\n",
              "      <td>1.304327</td>\n",
              "    </tr>\n",
              "    <tr>\n",
              "      <th>std</th>\n",
              "      <td>9.840844</td>\n",
              "      <td>0.003860</td>\n",
              "      <td>0.046670</td>\n",
              "      <td>0.002940</td>\n",
              "      <td>0.002962</td>\n",
              "      <td>0.000063</td>\n",
              "      <td>0.000580</td>\n",
              "      <td>17.192814</td>\n",
              "      <td>0.883241</td>\n",
              "      <td>18.39688</td>\n",
              "      <td>5.628247</td>\n",
              "      <td>38.955693</td>\n",
              "      <td>29.560212</td>\n",
              "      <td>17.944183</td>\n",
              "      <td>0.614377</td>\n",
              "    </tr>\n",
              "    <tr>\n",
              "      <th>min</th>\n",
              "      <td>106.000000</td>\n",
              "      <td>0.000000</td>\n",
              "      <td>0.000000</td>\n",
              "      <td>0.000000</td>\n",
              "      <td>0.000000</td>\n",
              "      <td>0.000000</td>\n",
              "      <td>0.000000</td>\n",
              "      <td>12.000000</td>\n",
              "      <td>0.200000</td>\n",
              "      <td>0.00000</td>\n",
              "      <td>0.000000</td>\n",
              "      <td>3.000000</td>\n",
              "      <td>50.000000</td>\n",
              "      <td>122.000000</td>\n",
              "      <td>1.000000</td>\n",
              "    </tr>\n",
              "    <tr>\n",
              "      <th>25%</th>\n",
              "      <td>126.000000</td>\n",
              "      <td>0.000000</td>\n",
              "      <td>0.000000</td>\n",
              "      <td>0.001876</td>\n",
              "      <td>0.000000</td>\n",
              "      <td>0.000000</td>\n",
              "      <td>0.000000</td>\n",
              "      <td>32.000000</td>\n",
              "      <td>0.700000</td>\n",
              "      <td>0.00000</td>\n",
              "      <td>4.600000</td>\n",
              "      <td>37.000000</td>\n",
              "      <td>67.000000</td>\n",
              "      <td>152.000000</td>\n",
              "      <td>1.000000</td>\n",
              "    </tr>\n",
              "    <tr>\n",
              "      <th>50%</th>\n",
              "      <td>133.000000</td>\n",
              "      <td>0.001630</td>\n",
              "      <td>0.000000</td>\n",
              "      <td>0.004482</td>\n",
              "      <td>0.000000</td>\n",
              "      <td>0.000000</td>\n",
              "      <td>0.000000</td>\n",
              "      <td>49.000000</td>\n",
              "      <td>1.200000</td>\n",
              "      <td>0.00000</td>\n",
              "      <td>7.400000</td>\n",
              "      <td>67.500000</td>\n",
              "      <td>93.000000</td>\n",
              "      <td>162.000000</td>\n",
              "      <td>1.000000</td>\n",
              "    </tr>\n",
              "    <tr>\n",
              "      <th>75%</th>\n",
              "      <td>140.000000</td>\n",
              "      <td>0.005631</td>\n",
              "      <td>0.002512</td>\n",
              "      <td>0.006525</td>\n",
              "      <td>0.003264</td>\n",
              "      <td>0.000000</td>\n",
              "      <td>0.000000</td>\n",
              "      <td>61.000000</td>\n",
              "      <td>1.700000</td>\n",
              "      <td>11.00000</td>\n",
              "      <td>10.800000</td>\n",
              "      <td>100.000000</td>\n",
              "      <td>120.000000</td>\n",
              "      <td>174.000000</td>\n",
              "      <td>1.000000</td>\n",
              "    </tr>\n",
              "    <tr>\n",
              "      <th>max</th>\n",
              "      <td>160.000000</td>\n",
              "      <td>0.019284</td>\n",
              "      <td>0.480634</td>\n",
              "      <td>0.014925</td>\n",
              "      <td>0.015385</td>\n",
              "      <td>0.001353</td>\n",
              "      <td>0.005348</td>\n",
              "      <td>87.000000</td>\n",
              "      <td>7.000000</td>\n",
              "      <td>91.00000</td>\n",
              "      <td>50.700000</td>\n",
              "      <td>180.000000</td>\n",
              "      <td>159.000000</td>\n",
              "      <td>238.000000</td>\n",
              "      <td>3.000000</td>\n",
              "    </tr>\n",
              "  </tbody>\n",
              "</table>\n",
              "</div>\n",
              "      <button class=\"colab-df-convert\" onclick=\"convertToInteractive('df-7d55da88-c4c5-46c7-bb6f-e4c6ff5570b3')\"\n",
              "              title=\"Convert this dataframe to an interactive table.\"\n",
              "              style=\"display:none;\">\n",
              "        \n",
              "  <svg xmlns=\"http://www.w3.org/2000/svg\" height=\"24px\"viewBox=\"0 0 24 24\"\n",
              "       width=\"24px\">\n",
              "    <path d=\"M0 0h24v24H0V0z\" fill=\"none\"/>\n",
              "    <path d=\"M18.56 5.44l.94 2.06.94-2.06 2.06-.94-2.06-.94-.94-2.06-.94 2.06-2.06.94zm-11 1L8.5 8.5l.94-2.06 2.06-.94-2.06-.94L8.5 2.5l-.94 2.06-2.06.94zm10 10l.94 2.06.94-2.06 2.06-.94-2.06-.94-.94-2.06-.94 2.06-2.06.94z\"/><path d=\"M17.41 7.96l-1.37-1.37c-.4-.4-.92-.59-1.43-.59-.52 0-1.04.2-1.43.59L10.3 9.45l-7.72 7.72c-.78.78-.78 2.05 0 2.83L4 21.41c.39.39.9.59 1.41.59.51 0 1.02-.2 1.41-.59l7.78-7.78 2.81-2.81c.8-.78.8-2.07 0-2.86zM5.41 20L4 18.59l7.72-7.72 1.47 1.35L5.41 20z\"/>\n",
              "  </svg>\n",
              "      </button>\n",
              "      \n",
              "  <style>\n",
              "    .colab-df-container {\n",
              "      display:flex;\n",
              "      flex-wrap:wrap;\n",
              "      gap: 12px;\n",
              "    }\n",
              "\n",
              "    .colab-df-convert {\n",
              "      background-color: #E8F0FE;\n",
              "      border: none;\n",
              "      border-radius: 50%;\n",
              "      cursor: pointer;\n",
              "      display: none;\n",
              "      fill: #1967D2;\n",
              "      height: 32px;\n",
              "      padding: 0 0 0 0;\n",
              "      width: 32px;\n",
              "    }\n",
              "\n",
              "    .colab-df-convert:hover {\n",
              "      background-color: #E2EBFA;\n",
              "      box-shadow: 0px 1px 2px rgba(60, 64, 67, 0.3), 0px 1px 3px 1px rgba(60, 64, 67, 0.15);\n",
              "      fill: #174EA6;\n",
              "    }\n",
              "\n",
              "    [theme=dark] .colab-df-convert {\n",
              "      background-color: #3B4455;\n",
              "      fill: #D2E3FC;\n",
              "    }\n",
              "\n",
              "    [theme=dark] .colab-df-convert:hover {\n",
              "      background-color: #434B5C;\n",
              "      box-shadow: 0px 1px 3px 1px rgba(0, 0, 0, 0.15);\n",
              "      filter: drop-shadow(0px 1px 2px rgba(0, 0, 0, 0.3));\n",
              "      fill: #FFFFFF;\n",
              "    }\n",
              "  </style>\n",
              "\n",
              "      <script>\n",
              "        const buttonEl =\n",
              "          document.querySelector('#df-7d55da88-c4c5-46c7-bb6f-e4c6ff5570b3 button.colab-df-convert');\n",
              "        buttonEl.style.display =\n",
              "          google.colab.kernel.accessAllowed ? 'block' : 'none';\n",
              "\n",
              "        async function convertToInteractive(key) {\n",
              "          const element = document.querySelector('#df-7d55da88-c4c5-46c7-bb6f-e4c6ff5570b3');\n",
              "          const dataTable =\n",
              "            await google.colab.kernel.invokeFunction('convertToInteractive',\n",
              "                                                     [key], {});\n",
              "          if (!dataTable) return;\n",
              "\n",
              "          const docLinkHtml = 'Like what you see? Visit the ' +\n",
              "            '<a target=\"_blank\" href=https://colab.research.google.com/notebooks/data_table.ipynb>data table notebook</a>'\n",
              "            + ' to learn more about interactive tables.';\n",
              "          element.innerHTML = '';\n",
              "          dataTable['output_type'] = 'display_data';\n",
              "          await google.colab.output.renderOutput(dataTable, element);\n",
              "          const docLink = document.createElement('div');\n",
              "          docLink.innerHTML = docLinkHtml;\n",
              "          element.appendChild(docLink);\n",
              "        }\n",
              "      </script>\n",
              "    </div>\n",
              "  </div>\n",
              "  "
            ]
          },
          "metadata": {},
          "execution_count": 6
        }
      ]
    },
    {
      "cell_type": "code",
      "source": [
        "cardio_data.info()"
      ],
      "metadata": {
        "colab": {
          "base_uri": "https://localhost:8080/"
        },
        "id": "Zt_Vy2VoBpq-",
        "outputId": "0fab2b62-2ec0-4b9c-f2e0-b2e48b4af162"
      },
      "execution_count": null,
      "outputs": [
        {
          "output_type": "stream",
          "name": "stdout",
          "text": [
            "<class 'pandas.core.frame.DataFrame'>\n",
            "RangeIndex: 2126 entries, 0 to 2125\n",
            "Data columns (total 15 columns):\n",
            " #   Column  Non-Null Count  Dtype  \n",
            "---  ------  --------------  -----  \n",
            " 0   BPM     2126 non-null   int64  \n",
            " 1   APC     2126 non-null   float64\n",
            " 2   FMPS    2126 non-null   float64\n",
            " 3   UCPS    2126 non-null   float64\n",
            " 4   DLPS    2126 non-null   float64\n",
            " 5   SDPS    2126 non-null   float64\n",
            " 6   PDPS    2126 non-null   float64\n",
            " 7   ASTV    2126 non-null   int64  \n",
            " 8   MSTV    2126 non-null   float64\n",
            " 9   ALTV    2126 non-null   int64  \n",
            " 10  MLTV    2126 non-null   float64\n",
            " 11  Width   2126 non-null   int64  \n",
            " 12  Min     2126 non-null   int64  \n",
            " 13  Max     2126 non-null   int64  \n",
            " 14  NSP     2126 non-null   int64  \n",
            "dtypes: float64(8), int64(7)\n",
            "memory usage: 249.3 KB\n"
          ]
        }
      ]
    },
    {
      "cell_type": "code",
      "source": [
        "cardio_data.shape"
      ],
      "metadata": {
        "colab": {
          "base_uri": "https://localhost:8080/"
        },
        "id": "LMGlvcZhBpuX",
        "outputId": "5ee66ac0-9d64-4c7d-8703-bc1e4f7d522e"
      },
      "execution_count": null,
      "outputs": [
        {
          "output_type": "execute_result",
          "data": {
            "text/plain": [
              "(2126, 15)"
            ]
          },
          "metadata": {},
          "execution_count": 8
        }
      ]
    },
    {
      "cell_type": "code",
      "source": [
        "cardio_data['NSP'].value_counts()"
      ],
      "metadata": {
        "colab": {
          "base_uri": "https://localhost:8080/"
        },
        "id": "siiCcIkbBpwH",
        "outputId": "26d70607-bcdf-4c29-d525-a6b950d0be27"
      },
      "execution_count": null,
      "outputs": [
        {
          "output_type": "execute_result",
          "data": {
            "text/plain": [
              "1    1655\n",
              "2     295\n",
              "3     176\n",
              "Name: NSP, dtype: int64"
            ]
          },
          "metadata": {},
          "execution_count": 9
        }
      ]
    },
    {
      "cell_type": "code",
      "source": [
        "sns.countplot(cardio_data['NSP'])"
      ],
      "metadata": {
        "colab": {
          "base_uri": "https://localhost:8080/",
          "height": 351
        },
        "id": "m5uXM3v8Bpzi",
        "outputId": "41c02bf6-acd3-4f53-ad12-9112b4607280"
      },
      "execution_count": null,
      "outputs": [
        {
          "output_type": "stream",
          "name": "stderr",
          "text": [
            "/usr/local/lib/python3.7/dist-packages/seaborn/_decorators.py:43: FutureWarning: Pass the following variable as a keyword arg: x. From version 0.12, the only valid positional argument will be `data`, and passing other arguments without an explicit keyword will result in an error or misinterpretation.\n",
            "  FutureWarning\n"
          ]
        },
        {
          "output_type": "execute_result",
          "data": {
            "text/plain": [
              "<matplotlib.axes._subplots.AxesSubplot at 0x7f184d4940d0>"
            ]
          },
          "metadata": {},
          "execution_count": 10
        },
        {
          "output_type": "display_data",
          "data": {
            "text/plain": [
              "<Figure size 432x288 with 1 Axes>"
            ],
            "image/png": "[encoded data removed]"
          },
          "metadata": {
            "needs_background": "light"
          }
        }
      ]
    },
    {
      "cell_type": "code",
      "source": [
        "X = cardio_data.drop('NSP', axis=1)\n",
        "y = cardio_data['NSP']-1"
      ],
      "metadata": {
        "id": "GaTmObnLBp1s"
      },
      "execution_count": null,
      "outputs": []
    },
    {
      "cell_type": "code",
      "source": [
        "X_train, X_test, y_train, y_test = train_test_split(X,y, test_size= 0.2, stratify = y, random_state=99)"
      ],
      "metadata": {
        "id": "ZHJETdXjBp4e"
      },
      "execution_count": null,
      "outputs": []
    },
    {
      "cell_type": "code",
      "source": [
        "scaler = StandardScaler()\n",
        "X_train = scaler.fit_transform(X_train)\n",
        "X_test =scaler.transform(X_test)"
      ],
      "metadata": {
        "id": "AcWzda6TBp6C"
      },
      "execution_count": null,
      "outputs": []
    },
    {
      "cell_type": "code",
      "source": [
        "model = tf.keras.models.Sequential()\n",
        "model.add(tf.keras.layers.Dense(8, activation='relu', input_shape=(14,)))\n",
        "model.add(tf.keras.layers.Dense(3,activation='softmax'))"
      ],
      "metadata": {
        "id": "N9ml4zIaBp9c"
      },
      "execution_count": null,
      "outputs": []
    },
    {
      "cell_type": "code",
      "source": [
        "model.compile(optimizer='adam', loss ='sparse_categorical_crossentropy', metrics='accuracy')"
      ],
      "metadata": {
        "id": "kHkQFEgRBp-_"
      },
      "execution_count": null,
      "outputs": []
    },
    {
      "cell_type": "code",
      "source": [
        "model.summary()"
      ],
      "metadata": {
        "colab": {
          "base_uri": "https://localhost:8080/"
        },
        "id": "IyWJHe9DBqCa",
        "outputId": "4c5dacd3-15f7-4a5f-fe10-e28238896e6f"
      },
      "execution_count": null,
      "outputs": [
        {
          "output_type": "stream",
          "name": "stdout",
          "text": [
            "Model: \"sequential\"\n",
            "_________________________________________________________________\n",
            " Layer (type)                Output Shape              Param #   \n",
            "=================================================================\n",
            " dense (Dense)               (None, 8)                 120       \n",
            "                                                                 \n",
            " dense_1 (Dense)             (None, 3)                 27        \n",
            "                                                                 \n",
            "=================================================================\n",
            "Total params: 147\n",
            "Trainable params: 147\n",
            "Non-trainable params: 0\n",
            "_________________________________________________________________\n"
          ]
        }
      ]
    },
    {
      "cell_type": "code",
      "source": [
        "class_weights = {0:1, 1:6, 2:7}"
      ],
      "metadata": {
        "id": "JvOyfu0cBqEW"
      },
      "execution_count": null,
      "outputs": []
    },
    {
      "cell_type": "code",
      "source": [
        "history =model.fit(X_train, y_train,\\\n",
        "                   batch_size =8, epochs =50,\\\n",
        "                   verbose = 2, class_weight=class_weights,\\\n",
        "                   validation_split=0.2)"
      ],
      "metadata": {
        "colab": {
          "base_uri": "https://localhost:8080/"
        },
        "id": "uL-vXEUOBqHm",
        "outputId": "5518d328-aaac-4bad-e85a-9a611fc82fea"
      },
      "execution_count": null,
      "outputs": [
        {
          "output_type": "stream",
          "name": "stdout",
          "text": [
            "Epoch 1/50\n",
            "170/170 - 3s - loss: 2.4368 - accuracy: 0.4934 - val_loss: 0.8894 - val_accuracy: 0.5794 - 3s/epoch - 17ms/step\n",
            "Epoch 2/50\n",
            "170/170 - 0s - loss: 1.8805 - accuracy: 0.6353 - val_loss: 0.7087 - val_accuracy: 0.7294 - 453ms/epoch - 3ms/step\n",
            "Epoch 3/50\n",
            "170/170 - 0s - loss: 1.5777 - accuracy: 0.7390 - val_loss: 0.5980 - val_accuracy: 0.8000 - 379ms/epoch - 2ms/step\n",
            "Epoch 4/50\n",
            "170/170 - 0s - loss: 1.4083 - accuracy: 0.7647 - val_loss: 0.5198 - val_accuracy: 0.8118 - 457ms/epoch - 3ms/step\n",
            "Epoch 5/50\n",
            "170/170 - 0s - loss: 1.2982 - accuracy: 0.7809 - val_loss: 0.4766 - val_accuracy: 0.8353 - 466ms/epoch - 3ms/step\n",
            "Epoch 6/50\n",
            "170/170 - 0s - loss: 1.2211 - accuracy: 0.8022 - val_loss: 0.4404 - val_accuracy: 0.8412 - 396ms/epoch - 2ms/step\n",
            "Epoch 7/50\n",
            "170/170 - 0s - loss: 1.1637 - accuracy: 0.8044 - val_loss: 0.4234 - val_accuracy: 0.8441 - 389ms/epoch - 2ms/step\n",
            "Epoch 8/50\n",
            "170/170 - 0s - loss: 1.1203 - accuracy: 0.8169 - val_loss: 0.4063 - val_accuracy: 0.8471 - 382ms/epoch - 2ms/step\n",
            "Epoch 9/50\n",
            "170/170 - 0s - loss: 1.0840 - accuracy: 0.8199 - val_loss: 0.3839 - val_accuracy: 0.8500 - 392ms/epoch - 2ms/step\n",
            "Epoch 10/50\n",
            "170/170 - 0s - loss: 1.0566 - accuracy: 0.8243 - val_loss: 0.3762 - val_accuracy: 0.8588 - 385ms/epoch - 2ms/step\n",
            "Epoch 11/50\n",
            "170/170 - 0s - loss: 1.0334 - accuracy: 0.8279 - val_loss: 0.3661 - val_accuracy: 0.8618 - 385ms/epoch - 2ms/step\n",
            "Epoch 12/50\n",
            "170/170 - 0s - loss: 1.0123 - accuracy: 0.8287 - val_loss: 0.3535 - val_accuracy: 0.8559 - 458ms/epoch - 3ms/step\n",
            "Epoch 13/50\n",
            "170/170 - 0s - loss: 0.9928 - accuracy: 0.8316 - val_loss: 0.3457 - val_accuracy: 0.8588 - 378ms/epoch - 2ms/step\n",
            "Epoch 14/50\n",
            "170/170 - 0s - loss: 0.9715 - accuracy: 0.8309 - val_loss: 0.3431 - val_accuracy: 0.8765 - 382ms/epoch - 2ms/step\n",
            "Epoch 15/50\n",
            "170/170 - 0s - loss: 0.9536 - accuracy: 0.8353 - val_loss: 0.3337 - val_accuracy: 0.8647 - 395ms/epoch - 2ms/step\n",
            "Epoch 16/50\n",
            "170/170 - 0s - loss: 0.9356 - accuracy: 0.8382 - val_loss: 0.3296 - val_accuracy: 0.8735 - 391ms/epoch - 2ms/step\n",
            "Epoch 17/50\n",
            "170/170 - 0s - loss: 0.9254 - accuracy: 0.8404 - val_loss: 0.3255 - val_accuracy: 0.8765 - 399ms/epoch - 2ms/step\n",
            "Epoch 18/50\n",
            "170/170 - 0s - loss: 0.9099 - accuracy: 0.8404 - val_loss: 0.3206 - val_accuracy: 0.8794 - 460ms/epoch - 3ms/step\n",
            "Epoch 19/50\n",
            "170/170 - 0s - loss: 0.9004 - accuracy: 0.8441 - val_loss: 0.3159 - val_accuracy: 0.8765 - 406ms/epoch - 2ms/step\n",
            "Epoch 20/50\n",
            "170/170 - 0s - loss: 0.8905 - accuracy: 0.8449 - val_loss: 0.3162 - val_accuracy: 0.8824 - 468ms/epoch - 3ms/step\n",
            "Epoch 21/50\n",
            "170/170 - 0s - loss: 0.8786 - accuracy: 0.8404 - val_loss: 0.3086 - val_accuracy: 0.8824 - 384ms/epoch - 2ms/step\n",
            "Epoch 22/50\n",
            "170/170 - 0s - loss: 0.8675 - accuracy: 0.8478 - val_loss: 0.3019 - val_accuracy: 0.8824 - 417ms/epoch - 2ms/step\n",
            "Epoch 23/50\n",
            "170/170 - 0s - loss: 0.8589 - accuracy: 0.8471 - val_loss: 0.2976 - val_accuracy: 0.8824 - 377ms/epoch - 2ms/step\n",
            "Epoch 24/50\n",
            "170/170 - 0s - loss: 0.8521 - accuracy: 0.8537 - val_loss: 0.3056 - val_accuracy: 0.8794 - 457ms/epoch - 3ms/step\n",
            "Epoch 25/50\n",
            "170/170 - 0s - loss: 0.8422 - accuracy: 0.8529 - val_loss: 0.2976 - val_accuracy: 0.8824 - 450ms/epoch - 3ms/step\n",
            "Epoch 26/50\n",
            "170/170 - 0s - loss: 0.8273 - accuracy: 0.8537 - val_loss: 0.2970 - val_accuracy: 0.8882 - 383ms/epoch - 2ms/step\n",
            "Epoch 27/50\n",
            "170/170 - 0s - loss: 0.8197 - accuracy: 0.8529 - val_loss: 0.2896 - val_accuracy: 0.8853 - 396ms/epoch - 2ms/step\n",
            "Epoch 28/50\n",
            "170/170 - 0s - loss: 0.8111 - accuracy: 0.8610 - val_loss: 0.2872 - val_accuracy: 0.8853 - 389ms/epoch - 2ms/step\n",
            "Epoch 29/50\n",
            "170/170 - 0s - loss: 0.8033 - accuracy: 0.8640 - val_loss: 0.2861 - val_accuracy: 0.8912 - 389ms/epoch - 2ms/step\n",
            "Epoch 30/50\n",
            "170/170 - 0s - loss: 0.7947 - accuracy: 0.8603 - val_loss: 0.2857 - val_accuracy: 0.8853 - 474ms/epoch - 3ms/step\n",
            "Epoch 31/50\n",
            "170/170 - 0s - loss: 0.7847 - accuracy: 0.8647 - val_loss: 0.2831 - val_accuracy: 0.8882 - 384ms/epoch - 2ms/step\n",
            "Epoch 32/50\n",
            "170/170 - 0s - loss: 0.7814 - accuracy: 0.8721 - val_loss: 0.2850 - val_accuracy: 0.8882 - 386ms/epoch - 2ms/step\n",
            "Epoch 33/50\n",
            "170/170 - 0s - loss: 0.7690 - accuracy: 0.8713 - val_loss: 0.2875 - val_accuracy: 0.8853 - 390ms/epoch - 2ms/step\n",
            "Epoch 34/50\n",
            "170/170 - 0s - loss: 0.7664 - accuracy: 0.8647 - val_loss: 0.2876 - val_accuracy: 0.8882 - 413ms/epoch - 2ms/step\n",
            "Epoch 35/50\n",
            "170/170 - 0s - loss: 0.7549 - accuracy: 0.8684 - val_loss: 0.2781 - val_accuracy: 0.8853 - 380ms/epoch - 2ms/step\n",
            "Epoch 36/50\n",
            "170/170 - 0s - loss: 0.7512 - accuracy: 0.8743 - val_loss: 0.2822 - val_accuracy: 0.8824 - 397ms/epoch - 2ms/step\n",
            "Epoch 37/50\n",
            "170/170 - 0s - loss: 0.7429 - accuracy: 0.8684 - val_loss: 0.2771 - val_accuracy: 0.8824 - 468ms/epoch - 3ms/step\n",
            "Epoch 38/50\n",
            "170/170 - 0s - loss: 0.7386 - accuracy: 0.8706 - val_loss: 0.2760 - val_accuracy: 0.8794 - 388ms/epoch - 2ms/step\n",
            "Epoch 39/50\n",
            "170/170 - 0s - loss: 0.7315 - accuracy: 0.8691 - val_loss: 0.2765 - val_accuracy: 0.8853 - 465ms/epoch - 3ms/step\n",
            "Epoch 40/50\n",
            "170/170 - 0s - loss: 0.7221 - accuracy: 0.8743 - val_loss: 0.2772 - val_accuracy: 0.8853 - 459ms/epoch - 3ms/step\n",
            "Epoch 41/50\n",
            "170/170 - 0s - loss: 0.7209 - accuracy: 0.8735 - val_loss: 0.2823 - val_accuracy: 0.8882 - 397ms/epoch - 2ms/step\n",
            "Epoch 42/50\n",
            "170/170 - 0s - loss: 0.7131 - accuracy: 0.8721 - val_loss: 0.2813 - val_accuracy: 0.8853 - 381ms/epoch - 2ms/step\n",
            "Epoch 43/50\n",
            "170/170 - 0s - loss: 0.7083 - accuracy: 0.8699 - val_loss: 0.2745 - val_accuracy: 0.8853 - 391ms/epoch - 2ms/step\n",
            "Epoch 44/50\n",
            "170/170 - 0s - loss: 0.7030 - accuracy: 0.8743 - val_loss: 0.2798 - val_accuracy: 0.8853 - 394ms/epoch - 2ms/step\n",
            "Epoch 45/50\n",
            "170/170 - 0s - loss: 0.6994 - accuracy: 0.8728 - val_loss: 0.2808 - val_accuracy: 0.8794 - 389ms/epoch - 2ms/step\n",
            "Epoch 46/50\n",
            "170/170 - 0s - loss: 0.7002 - accuracy: 0.8721 - val_loss: 0.2770 - val_accuracy: 0.8853 - 390ms/epoch - 2ms/step\n",
            "Epoch 47/50\n",
            "170/170 - 0s - loss: 0.6903 - accuracy: 0.8735 - val_loss: 0.2770 - val_accuracy: 0.8882 - 393ms/epoch - 2ms/step\n",
            "Epoch 48/50\n",
            "170/170 - 0s - loss: 0.6853 - accuracy: 0.8735 - val_loss: 0.2706 - val_accuracy: 0.8912 - 424ms/epoch - 2ms/step\n",
            "Epoch 49/50\n",
            "170/170 - 0s - loss: 0.6832 - accuracy: 0.8757 - val_loss: 0.2759 - val_accuracy: 0.8765 - 406ms/epoch - 2ms/step\n",
            "Epoch 50/50\n",
            "170/170 - 0s - loss: 0.6797 - accuracy: 0.8743 - val_loss: 0.2699 - val_accuracy: 0.8941 - 386ms/epoch - 2ms/step\n"
          ]
        }
      ]
    },
    {
      "cell_type": "code",
      "source": [
        "accuracy = history.history['accuracy']\n",
        "validation_accuracy = history.history['val_accuracy']"
      ],
      "metadata": {
        "id": "S0LBGSxhBqJH"
      },
      "execution_count": null,
      "outputs": []
    },
    {
      "cell_type": "code",
      "source": [
        "plt.plot(accuracy, label='Training Set Accuracy')\n",
        "plt.plot(validation_accuracy, label= 'validation Set Accuracy')\n",
        "plt.ylabel('Accuracy')\n",
        "plt.ylim([min(plt.ylim()),1])\n",
        "plt.title('Training and Validation Accuracy Across Epochs')\n",
        "plt.legend()"
      ],
      "metadata": {
        "colab": {
          "base_uri": "https://localhost:8080/",
          "height": 298
        },
        "id": "hKFgWHuxBqMi",
        "outputId": "02b6e093-a470-4682-b634-cce276a461a1"
      },
      "execution_count": null,
      "outputs": [
        {
          "output_type": "execute_result",
          "data": {
            "text/plain": [
              "<matplotlib.legend.Legend at 0x7f17cfea8450>"
            ]
          },
          "metadata": {},
          "execution_count": 23
        },
        {
          "output_type": "display_data",
          "data": {
            "text/plain": [
              "<Figure size 432x288 with 1 Axes>"
            ],
            "image/png": "[encoded data removed]"
          },
          "metadata": {
            "needs_background": "light"
          }
        }
      ]
    },
    {
      "cell_type": "code",
      "source": [
        "loss = history.history['loss']\n",
        "validation_loss = history.history['val_loss']"
      ],
      "metadata": {
        "id": "fjRyU3IyBqOC"
      },
      "execution_count": null,
      "outputs": []
    },
    {
      "cell_type": "code",
      "source": [
        "plt.plot(loss, label='Training Set Loss')\n",
        "plt.plot(validation_loss, label='Validation Set Loss')\n",
        "plt.ylabel('Loss')\n",
        "plt.title('Training and Validation Accuracy Across Epochs')\n",
        "plt.legend()"
      ],
      "metadata": {
        "colab": {
          "base_uri": "https://localhost:8080/",
          "height": 298
        },
        "id": "vAzirsG9BqRw",
        "outputId": "732ecf37-35f7-49e0-d9fd-0e819a1c2068"
      },
      "execution_count": null,
      "outputs": [
        {
          "output_type": "execute_result",
          "data": {
            "text/plain": [
              "<matplotlib.legend.Legend at 0x7f17cfe45dd0>"
            ]
          },
          "metadata": {},
          "execution_count": 25
        },
        {
          "output_type": "display_data",
          "data": {
            "text/plain": [
              "<Figure size 432x288 with 1 Axes>"
            ],
            "image/png": "[encoded data removed]"
          },
          "metadata": {
            "needs_background": "light"
          }
        }
      ]
    },
    {
      "cell_type": "code",
      "source": [
        "from sklearn.metrics import confusion_matrix, classification_report"
      ],
      "metadata": {
        "id": "DpGzUrl8BqTb"
      },
      "execution_count": null,
      "outputs": []
    },
    {
      "cell_type": "code",
      "source": [
        "y_pred = model.predict(X_test)\n",
        "y_pred = y_pred.argmax(axis=1)"
      ],
      "metadata": {
        "colab": {
          "base_uri": "https://localhost:8080/"
        },
        "id": "rE6aikbzBqXE",
        "outputId": "fb1f77c6-ba07-47a3-d01f-9548904f18c0"
      },
      "execution_count": null,
      "outputs": [
        {
          "output_type": "stream",
          "name": "stdout",
          "text": [
            "14/14 [==============================] - 0s 2ms/step\n"
          ]
        }
      ]
    },
    {
      "cell_type": "code",
      "source": [
        "confusion_matrix = confusion_matrix(y_test, y_pred)\n",
        "ax= sns.heatmap(confusion_matrix, cmap='flare', annot=True, fmt='f')\n",
        "plt.xlabel('Predicted Class', fontsize =12)\n",
        "plt.title('Confusion Matrix', fontsize=12)\n",
        "plt.show()"
      ],
      "metadata": {
        "colab": {
          "base_uri": "https://localhost:8080/",
          "height": 298
        },
        "id": "HvTLSoLxBqYo",
        "outputId": "522861fd-4ad4-490c-91eb-39afd1bb3830"
      },
      "execution_count": null,
      "outputs": [
        {
          "output_type": "display_data",
          "data": {
            "text/plain": [
              "<Figure size 432x288 with 2 Axes>"
            ],
            "image/png": "[encoded data removed]"
          },
          "metadata": {
            "needs_background": "light"
          }
        }
      ]
    },
    {
      "cell_type": "code",
      "source": [
        "print(classification_report(y_test, y_pred))"
      ],
      "metadata": {
        "colab": {
          "base_uri": "https://localhost:8080/"
        },
        "id": "PflfsHw0BqcD",
        "outputId": "3c04d4a5-3683-46f8-fa69-3925ce2597f0"
      },
      "execution_count": null,
      "outputs": [
        {
          "output_type": "stream",
          "name": "stdout",
          "text": [
            "              precision    recall  f1-score   support\n",
            "\n",
            "           0       0.98      0.89      0.93       332\n",
            "           1       0.56      0.83      0.67        59\n",
            "           2       0.71      0.77      0.74        35\n",
            "\n",
            "    accuracy                           0.87       426\n",
            "   macro avg       0.75      0.83      0.78       426\n",
            "weighted avg       0.90      0.87      0.88       426\n",
            "\n"
          ]
        }
      ]
    },
    {
      "cell_type": "markdown",
      "source": [
        "# New Section"
      ],
      "metadata": {
        "id": "lHMk6CAkA0OD"
      }
    },
    {
      "cell_type": "code",
      "source": [],
      "metadata": {
        "id": "6Ms27zjwBqde"
      },
      "execution_count": null,
      "outputs": []
    },
    {
      "cell_type": "code",
      "source": [],
      "metadata": {
        "id": "QpRfdV3UBqhG"
      },
      "execution_count": null,
      "outputs": []
    },
    {
      "cell_type": "code",
      "source": [],
      "metadata": {
        "id": "zi-EPFU6Bqio"
      },
      "execution_count": null,
      "outputs": []
    },
    {
      "cell_type": "code",
      "source": [],
      "metadata": {
        "id": "jPwkMhumBqmP"
      },
      "execution_count": null,
      "outputs": []
    },
    {
      "cell_type": "code",
      "source": [],
      "metadata": {
        "id": "enHC-uW8Bqn5"
      },
      "execution_count": null,
      "outputs": []
    },
    {
      "cell_type": "code",
      "source": [],
      "metadata": {
        "id": "DwE9bWMIBqrp"
      },
      "execution_count": null,
      "outputs": []
    },
    {
      "cell_type": "code",
      "source": [],
      "metadata": {
        "id": "gwztHrB2Bqtf"
      },
      "execution_count": null,
      "outputs": []
    },
    {
      "cell_type": "code",
      "source": [],
      "metadata": {
        "id": "JSpZ3ySMBqwm"
      },
      "execution_count": null,
      "outputs": []
    },
    {
      "cell_type": "code",
      "source": [],
      "metadata": {
        "id": "fGTKH1pzBqyo"
      },
      "execution_count": null,
      "outputs": []
    },
    {
      "cell_type": "code",
      "source": [],
      "metadata": {
        "id": "Bx7INaKOBq1l"
      },
      "execution_count": null,
      "outputs": []
    },
    {
      "cell_type": "code",
      "source": [],
      "metadata": {
        "id": "P3KabqrGBq3Z"
      },
      "execution_count": null,
      "outputs": []
    },
    {
      "cell_type": "code",
      "source": [],
      "metadata": {
        "id": "ejuM6yaqBq64"
      },
      "execution_count": null,
      "outputs": []
    },
    {
      "cell_type": "code",
      "source": [],
      "metadata": {
        "id": "NJzqIytiBq8o"
      },
      "execution_count": null,
      "outputs": []
    },
    {
      "cell_type": "code",
      "source": [],
      "metadata": {
        "id": "pGSd2WecBrAa"
      },
      "execution_count": null,
      "outputs": []
    },
    {
      "cell_type": "code",
      "source": [],
      "metadata": {
        "id": "o5_p2bYVBrB6"
      },
      "execution_count": null,
      "outputs": []
    },
    {
      "cell_type": "code",
      "source": [],
      "metadata": {
        "id": "wSNREu9SBrFk"
      },
      "execution_count": null,
      "outputs": []
    },
    {
      "cell_type": "code",
      "source": [],
      "metadata": {
        "id": "cRPGMubRBrHP"
      },
      "execution_count": null,
      "outputs": []
    },
    {
      "cell_type": "code",
      "source": [],
      "metadata": {
        "id": "xW48V5MABrK8"
      },
      "execution_count": null,
      "outputs": []
    },
    {
      "cell_type": "code",
      "source": [],
      "metadata": {
        "id": "D44he98OBrMq"
      },
      "execution_count": null,
      "outputs": []
    },
    {
      "cell_type": "code",
      "source": [],
      "metadata": {
        "id": "cC4O6_kvBrQW"
      },
      "execution_count": null,
      "outputs": []
    },
    {
      "cell_type": "code",
      "source": [],
      "metadata": {
        "id": "Gt6PP9dqBrR9"
      },
      "execution_count": null,
      "outputs": []
    },
    {
      "cell_type": "code",
      "source": [],
      "metadata": {
        "id": "rxp8XaXLBrWT"
      },
      "execution_count": null,
      "outputs": []
    },
    {
      "cell_type": "code",
      "source": [],
      "metadata": {
        "id": "pla9CsDGBrYA"
      },
      "execution_count": null,
      "outputs": []
    },
    {
      "cell_type": "code",
      "source": [],
      "metadata": {
        "id": "AmMLs1puBrag"
      },
      "execution_count": null,
      "outputs": []
    },
    {
      "cell_type": "code",
      "source": [],
      "metadata": {
        "id": "lP4a2DgmBrcJ"
      },
      "execution_count": null,
      "outputs": []
    },
    {
      "cell_type": "code",
      "source": [],
      "metadata": {
        "id": "oOadsdRJBrfs"
      },
      "execution_count": null,
      "outputs": []
    },
    {
      "cell_type": "code",
      "source": [],
      "metadata": {
        "id": "OZxRuFOdBriY"
      },
      "execution_count": null,
      "outputs": []
    },
    {
      "cell_type": "code",
      "source": [],
      "metadata": {
        "id": "4R-HYc_M-c_f"
      },
      "execution_count": null,
      "outputs": []
    },
    {
      "cell_type": "code",
      "source": [],
      "metadata": {
        "id": "H87u_1zG-dBR"
      },
      "execution_count": null,
      "outputs": []
    },
    {
      "cell_type": "code",
      "source": [],
      "metadata": {
        "id": "OWjK4knH-dEj"
      },
      "execution_count": null,
      "outputs": []
    },
    {
      "cell_type": "code",
      "source": [],
      "metadata": {
        "id": "IclMUv9q-dGQ"
      },
      "execution_count": null,
      "outputs": []
    },
    {
      "cell_type": "code",
      "source": [],
      "metadata": {
        "id": "4W1UQCjZ-dJQ"
      },
      "execution_count": null,
      "outputs": []
    },
    {
      "cell_type": "code",
      "source": [],
      "metadata": {
        "id": "CPFtg5tB-dKx"
      },
      "execution_count": null,
      "outputs": []
    },
    {
      "cell_type": "code",
      "source": [],
      "metadata": {
        "id": "G_FJ0qQX-dOU"
      },
      "execution_count": null,
      "outputs": []
    },
    {
      "cell_type": "code",
      "source": [],
      "metadata": {
        "id": "0hYjtArT-dQO"
      },
      "execution_count": null,
      "outputs": []
    },
    {
      "cell_type": "code",
      "source": [],
      "metadata": {
        "id": "UHGP2ekA-dTh"
      },
      "execution_count": null,
      "outputs": []
    },
    {
      "cell_type": "code",
      "source": [],
      "metadata": {
        "id": "mWY-wBJD-dU9"
      },
      "execution_count": null,
      "outputs": []
    },
    {
      "cell_type": "code",
      "source": [],
      "metadata": {
        "id": "Ru6SkUNW-dYl"
      },
      "execution_count": null,
      "outputs": []
    },
    {
      "cell_type": "code",
      "source": [],
      "metadata": {
        "id": "yqRtopf4-dai"
      },
      "execution_count": null,
      "outputs": []
    },
    {
      "cell_type": "code",
      "source": [],
      "metadata": {
        "id": "MvnM7Vp5-ddc"
      },
      "execution_count": null,
      "outputs": []
    },
    {
      "cell_type": "code",
      "source": [],
      "metadata": {
        "id": "m_HtYwr3-dfS"
      },
      "execution_count": null,
      "outputs": []
    },
    {
      "cell_type": "code",
      "source": [],
      "metadata": {
        "id": "PyGs0jbJ-djI"
      },
      "execution_count": null,
      "outputs": []
    },
    {
      "cell_type": "code",
      "source": [],
      "metadata": {
        "id": "6iZgWZGM8yi0"
      },
      "execution_count": null,
      "outputs": []
    },
    {
      "cell_type": "code",
      "source": [],
      "metadata": {
        "id": "-VyJtAGt8ykw"
      },
      "execution_count": null,
      "outputs": []
    },
    {
      "cell_type": "code",
      "source": [],
      "metadata": {
        "id": "Il8GYhiT8yoH"
      },
      "execution_count": null,
      "outputs": []
    }
  ]
}